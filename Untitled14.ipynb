{
  "nbformat": 4,
  "nbformat_minor": 0,
  "metadata": {
    "colab": {
      "provenance": []
    },
    "kernelspec": {
      "name": "python3",
      "display_name": "Python 3"
    },
    "language_info": {
      "name": "python"
    }
  },
  "cells": [
    {
      "cell_type": "code",
      "execution_count": null,
      "metadata": {
        "id": "Gub31In5yAXs"
      },
      "outputs": [],
      "source": []
    },
    {
      "cell_type": "code",
      "source": [
        "// WiFi credentials \n",
        "const char* ssid = \"Your WiFi SSID\"; \n",
        "const char* password = \"Your WiFi password\"; \n",
        "// PIR sensor pin \n",
        "const int pirPin = 2; \n",
        "// Timer variables \n",
        "unsigned long previousTime = 0; \n",
        "const long interval = 10000; // Interval of 10 seconds \n",
        "void setup() { \n",
        " Serial.begin(115200); \n",
        " // Connect to WiFi \n",
        " WiFi.begin(ssid, password); \n",
        " while (WiFi.status() != WL_CONNECTED) { \n",
        " delay(1000); \n",
        " Serial.println(\"Connecting to WiFi...\"); \n",
        " } \n",
        " Serial.println(\"Connected to WiFi\"); \n",
        " // Configure PIR sensor pin as input \n",
        " pinMode(pirPin, INPUT);\n",
        "\n",
        "Attach interrupt handler to the PIR sensor pin \n",
        " attachInterrupt(digitalPinToInterrupt(pirPin), pirInterrupt, CHANGE); \n",
        "} \n",
        "void loop() { \n",
        " // Check if it's time to send data \n",
        " unsigned long currentTime = millis(); \n",
        " if (currentTime - previousTime >= interval) { \n",
        " previousTime = currentTime; \n",
        " // TODO: Send data or perform actions \n",
        " Serial.println(\"Motion detected!\"); \n",
        " } \n",
        "} \n",
        "void pirInterrupt() { \n",
        " // PIR sensor interrupt handler \n",
        " if (digitalRead(pirPin) == HIGH) { \n",
        " // Motion detected \n",
        " Serial.println(\"Motion detected!\"); \n",
        " } \n",
        "}\n"
      ],
      "metadata": {
        "colab": {
          "base_uri": "https://localhost:8080/",
          "height": 130
        },
        "id": "EaxAzR8xyJbu",
        "outputId": "64b6eb63-9a4b-4102-c695-3b7c81952076"
      },
      "execution_count": 1,
      "outputs": [
        {
          "output_type": "error",
          "ename": "SyntaxError",
          "evalue": "ignored",
          "traceback": [
            "\u001b[0;36m  File \u001b[0;32m\"<ipython-input-1-159ce3f4aa30>\"\u001b[0;36m, line \u001b[0;32m25\u001b[0m\n\u001b[0;31m    // Check if it's time to send data\u001b[0m\n\u001b[0m                  ^\u001b[0m\n\u001b[0;31mSyntaxError\u001b[0m\u001b[0;31m:\u001b[0m unterminated string literal (detected at line 25)\n"
          ]
        }
      ]
    }
  ]
}