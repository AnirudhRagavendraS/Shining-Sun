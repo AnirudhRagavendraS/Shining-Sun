{
  "nbformat": 4,
  "nbformat_minor": 0,
  "metadata": {
    "colab": {
      "provenance": []
    },
    "kernelspec": {
      "name": "python3",
      "display_name": "Python 3"
    },
    "language_info": {
      "name": "python"
    }
  },
  "cells": [
    {
      "cell_type": "code",
      "execution_count": null,
      "metadata": {
        "colab": {
          "base_uri": "https://localhost:8080/"
        },
        "id": "4LMduM4h-syE",
        "outputId": "e9752304-786b-4ac3-acdc-65486149aed5"
      },
      "outputs": [
        {
          "output_type": "stream",
          "name": "stdout",
          "text": [
            "enter the roman numberM\n",
            "the integer value is 1000\n"
          ]
        }
      ],
      "source": [
        "r_n={\"I\":5,\"V\":5,\"X\":10,\"L\":50,\"C\":100,\"D\":500,\"M\":1000}\n",
        "int_value=0\n",
        "i=input(\"enter the roman number\").upper()\n",
        "for x in range (len(i)):\n",
        "    if i[x] in r_n:\n",
        "            if x + 1 < len(i) and r_n(i[x]) < r_n[i[x + 1]]:\n",
        "                int_value -=r_n[i[x]]\n",
        "            else:\n",
        "               int_value +=r_n[i[x]]\n",
        "    else:\n",
        "       print(\"invalid input is given\") \n",
        "print(\"the integer value is\",int_value)"
      ]
    }
  ]
}