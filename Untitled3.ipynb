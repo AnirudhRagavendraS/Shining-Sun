{
  "nbformat": 4,
  "nbformat_minor": 0,
  "metadata": {
    "colab": {
      "provenance": []
    },
    "kernelspec": {
      "name": "python3",
      "display_name": "Python 3"
    },
    "language_info": {
      "name": "python"
    }
  },
  "cells": [
    {
      "cell_type": "code",
      "execution_count": null,
      "metadata": {
        "colab": {
          "base_uri": "https://localhost:8080/",
          "height": 235
        },
        "id": "ANxx5O3BtXQ6",
        "outputId": "c015c322-dc82-4317-c663-917522bcb208"
      },
      "outputs": [
        {
          "output_type": "error",
          "ename": "NameError",
          "evalue": "ignored",
          "traceback": [
            "\u001b[0;31m---------------------------------------------------------------------------\u001b[0m",
            "\u001b[0;31mNameError\u001b[0m                                 Traceback (most recent call last)",
            "\u001b[0;32m<ipython-input-7-03399898c529>\u001b[0m in \u001b[0;36m<cell line: 2>\u001b[0;34m()\u001b[0m\n\u001b[1;32m      1\u001b[0m \u001b[0;32mimport\u001b[0m \u001b[0mpandas\u001b[0m \u001b[0;32mas\u001b[0m \u001b[0mpd\u001b[0m\u001b[0;34m\u001b[0m\u001b[0;34m\u001b[0m\u001b[0m\n\u001b[0;32m----> 2\u001b[0;31m \u001b[0mr\u001b[0m\u001b[0;34m=\u001b[0m\u001b[0msr\u001b[0m\u001b[0;34m.\u001b[0m\u001b[0mRecognizer\u001b[0m\u001b[0;34m(\u001b[0m\u001b[0;34m)\u001b[0m\u001b[0;34m\u001b[0m\u001b[0;34m\u001b[0m\u001b[0m\n\u001b[0m\u001b[1;32m      3\u001b[0m \u001b[0;32mdef\u001b[0m \u001b[0mrecord_audio\u001b[0m\u001b[0;34m(\u001b[0m\u001b[0;34m)\u001b[0m\u001b[0;34m:\u001b[0m\u001b[0;34m\u001b[0m\u001b[0;34m\u001b[0m\u001b[0m\n\u001b[1;32m      4\u001b[0m   \u001b[0;32mwith\u001b[0m \u001b[0msr\u001b[0m\u001b[0;34m.\u001b[0m\u001b[0mMicrophone\u001b[0m\u001b[0;34m(\u001b[0m\u001b[0;34m)\u001b[0m \u001b[0;32mas\u001b[0m \u001b[0msource\u001b[0m\u001b[0;34m:\u001b[0m\u001b[0;34m\u001b[0m\u001b[0;34m\u001b[0m\u001b[0m\n\u001b[1;32m      5\u001b[0m     \u001b[0mprint\u001b[0m\u001b[0;34m(\u001b[0m\u001b[0;34m\"speak now!\"\u001b[0m\u001b[0;34m)\u001b[0m\u001b[0;34m\u001b[0m\u001b[0;34m\u001b[0m\u001b[0m\n",
            "\u001b[0;31mNameError\u001b[0m: name 'sr' is not defined"
          ]
        }
      ],
      "source": [
        "import speech_recognition as sr\n",
        "import pandas as pd\n",
        "r=sr.Recognizer()\n",
        "def record_audio():\n",
        "  with sr.Microphone() as source:\n",
        "    print(\"speak now!\")\n",
        "    audio=r.listen(source)\n",
        "  return audio\n",
        "def convert_audio_to_text(audio):\n",
        "  try:\n",
        "    text=r.recognize_google(audio)\n",
        "    print(\"you said:\"+text)\n",
        "    return text      \n",
        "  except sr.UnknownValueError:\n",
        "    print(\"sorry i couldn't understand what you said\")\n",
        "    return None\n",
        "  except sr.RequestError as e:\n",
        "    print(\"sorry there was an error with the speech recognition service \")\n",
        "    return None\n",
        "dataset=pd.read_csv(\"https://lnkd.in/gK42NdA6\",header=None)\n",
        "def get_column_names():\n",
        "  print(\"column names:\")\n",
        "  print(dataset.columns)\n",
        "def check_for_null_values():\n",
        "  print(\"null values:\")\n",
        "  print(dataset.isnull().sum())\n",
        "def get_dataset_shape():\n",
        "  print(\"dataset shape:\")\n",
        "  print(dataset.shape)\n",
        "def get_first_few_rows():\n",
        "  print(\"first few rows\")\n",
        "  print(dataset.head())\n",
        "def perform_tasks():\n",
        "  audio=record_audio()\n",
        "  text=convert_audio_to_text(audio)\n",
        "  if text is not None:\n",
        "    if \"column names\" in text:\n",
        "      get_column_names()\n",
        "    elif \"null values\" in text:\n",
        "      check_for_null_values()\n",
        "    elif\"dataset shape\" in text:\n",
        "      get_datset_shape()\n",
        "    elif \"first few rows\" in text:\n",
        "      get_first_few_rows()\n",
        "    else:\n",
        "      print(\"sorry,i dont recognize this text\")\n",
        "perform_tasks()"
      ]
    }
  ]
}