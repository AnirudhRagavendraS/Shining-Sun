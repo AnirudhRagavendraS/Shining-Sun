{
  "cells": [
    {
      "cell_type": "code",
      "execution_count": null,
      "metadata": {
        "colab": {
          "background_save": true,
          "base_uri": "https://localhost:8080/"
        },
        "id": "06Nhl0PPSlZA",
        "outputId": "88f19e92-9229-49df-b01b-44dd4fd5d80f"
      },
      "outputs": [
        {
          "name": "stdout",
          "output_type": "stream",
          "text": [
            "ATM SIMULATOR\n",
            "\n"
          ]
        }
      ],
      "source": [
        "import random\n",
        "print(\"ATM SIMULATOR\\n\")\n",
        "class ATM:\n",
        "  a_amount=10000\n",
        "  def deposit(self,amount):\n",
        "    self.a_amount+=amount\n",
        "  def withdrawal(self,amount):\n",
        "    self.a_amount-=amount\n",
        "  def balance(self):\n",
        "    print(f\"\\nYour account balance:{self.a_amount}\") \n",
        "username='Anirudh'\n",
        "password='1234'\n",
        "name=input(\"enter username: \") \n",
        "pword=input(\"enter password: \") \n",
        "\n",
        "obj=ATM()\n",
        "if(name==username and pword==password):\n",
        "  otp=random.randint(10000,999999)\n",
        "  print(f\"OTP-{otp}\")\n",
        "  check=int(input(\"otp has been sent to the registered mobile number \\n please enter the otp: \"))\n",
        "\n",
        "  if(otp==check):\n",
        "    m=True\n",
        "    while(m):\n",
        "      print(\"\\n1.Deposit\\n2.Withdrawal\\n3.Balance\")\n",
        "      n=int(input(\"\\nchoose the option: \"))\n",
        "      if(n==1):\n",
        "        amount=int(input(\"\\n enter the amount to be deposited: \"))\n",
        "        obj.deposit(amount)\n",
        "      elif(n==2):\n",
        "        amount=int(input(\"\\n enter the amount to be withdrawn: \"))\n",
        "        obj.withdrawal(amount)\n",
        "      else:\n",
        "        obj.balance()\n",
        "      cont=input(\"\\ndo you want to continue your transaction(y/n): \")\n",
        "      if(cont==\"y\"):\n",
        "        continue\n",
        "      else:\n",
        "        break\n",
        "    else:\n",
        "     print(\"entered otp is wrong...\")\n",
        "  else:\n",
        "    print(\"entered username/password is wrong...\")"
      ]
    }
  ],
  "metadata": {
    "colab": {
      "provenance": []
    },
    "kernelspec": {
      "display_name": "Python 3",
      "name": "python3"
    },
    "language_info": {
      "name": "python"
    }
  },
  "nbformat": 4,
  "nbformat_minor": 0
}